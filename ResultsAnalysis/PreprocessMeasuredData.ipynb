{
 "cells": [
  {
   "cell_type": "markdown",
   "id": "collectible-disclaimer",
   "metadata": {},
   "source": [
    "# Preprocess Measured Data"
   ]
  },
  {
   "cell_type": "markdown",
   "id": "opposed-footwear",
   "metadata": {},
   "source": [
    "As the measured data used for calibration does not quite match with the data simulated by EnergyPlus, we need to make some alterations to fix this. As an example of one of these issues, when data is simulated in EnergyPlus at 12 PM it is labeled as 24:00:00 for that day. The mesured data labels this as 00:00:00 the following day and so we must alter the measured data so that it matches with the EnergyPlus generated date."
   ]
  },
  {
   "cell_type": "code",
   "execution_count": 1,
   "id": "superb-quest",
   "metadata": {},
   "outputs": [],
   "source": [
    "import pandas as pd\n",
    "import datetime"
   ]
  },
  {
   "cell_type": "markdown",
   "id": "competitive-victim",
   "metadata": {},
   "source": [
    "### Step 1: Load Data"
   ]
  },
  {
   "cell_type": "code",
   "execution_count": 2,
   "id": "bigger-password",
   "metadata": {},
   "outputs": [],
   "source": [
    "# outputDict contains info about what the output is called in the measured data (index 0), what it is called in EnergyPlus\n",
    "# for hourly measurments (index 1), what it is called in EnergyPlus for monthly measurments (index 2) and a unit conversion\n",
    "# multiplier (index 3).\n",
    "\n",
    "outputDict = {\n",
    "    \n",
    "                'Electricity': ['Building Electricity in kWh',\n",
    "                                'Electricity:Facility [J](Hourly)',\n",
    "                                'Electricity:Facility [J](Monthly)',\n",
    "                                3600000\n",
    "                                ],\n",
    "              \n",
    "                 'DistrictHeating': ['Building Heat Meter in kWh',\n",
    "                                     'DistrictHeating:Facility [J](Hourly)',\n",
    "                                     'DistrictHeating:Facility [J](Monthly)',\n",
    "                                     3600000\n",
    "                                    ],\n",
    "    \n",
    "                 'Water': ['Building Water in litres',\n",
    "                           'Water:Facility [m3](Hourly)',\n",
    "                           'Water:Facility [m3](Monthly)',\n",
    "                           0.001\n",
    "                            ]\n",
    "    \n",
    "             }"
   ]
  },
  {
   "cell_type": "code",
   "execution_count": 3,
   "id": "patient-discussion",
   "metadata": {},
   "outputs": [],
   "source": [
    "# Can choose year from 2017 - 2019.\n",
    "yearOfInterest = '2018'\n",
    "nextYear = str(int(yearOfInterest) + 1)\n",
    "\n",
    "\n",
    "# Can choose from \"Electricity\", \"DistrictHeating\" and \"Water\".\n",
    "measuredDataOutputOfInterest = 'DistrictHeating'"
   ]
  },
  {
   "cell_type": "code",
   "execution_count": 4,
   "id": "catholic-belgium",
   "metadata": {},
   "outputs": [],
   "source": [
    "measuredDataOutputName = outputDict[measuredDataOutputOfInterest][0]\n",
    "newHourlyMeasuredDataOutputName = outputDict[measuredDataOutputOfInterest][1]\n",
    "newMonthlyMeasuredDataOutputName = outputDict[measuredDataOutputOfInterest][2]\n",
    "multiplier = outputDict[measuredDataOutputOfInterest][3]"
   ]
  },
  {
   "cell_type": "code",
   "execution_count": 5,
   "id": "skilled-mountain",
   "metadata": {},
   "outputs": [],
   "source": [
    "measured = f'..\\Data\\InitialMeasuredData\\Building_{measuredDataOutputOfInterest}_Measured{yearOfInterest}.csv'"
   ]
  },
  {
   "cell_type": "code",
   "execution_count": 6,
   "id": "mediterranean-visitor",
   "metadata": {},
   "outputs": [],
   "source": [
    "measured_df = pd.read_csv(measured)"
   ]
  },
  {
   "cell_type": "markdown",
   "id": "prerequisite-aerospace",
   "metadata": {},
   "source": [
    "### Step 2: Isolate Correct Frequencies"
   ]
  },
  {
   "cell_type": "markdown",
   "id": "productive-specific",
   "metadata": {},
   "source": [
    "The measured data is collected for every 15 minute interval for 1 year. However, the data which will be used for calibration will be hourly data and monthly data. Therefore, we must preprocess the data to obtain these frequencies."
   ]
  },
  {
   "cell_type": "code",
   "execution_count": 7,
   "id": "alpha-edmonton",
   "metadata": {},
   "outputs": [],
   "source": [
    "def splitTimestampDate(row):\n",
    "    return row['timestamp'].split(' ')[0]\n",
    "\n",
    "def splitTimestampTime(row):\n",
    "    return row['timestamp'].split(' ')[1]"
   ]
  },
  {
   "cell_type": "code",
   "execution_count": 8,
   "id": "impossible-processor",
   "metadata": {},
   "outputs": [],
   "source": [
    "measured_df['date'] = measured_df.apply(lambda row: splitTimestampDate(row), axis=1)\n",
    "measured_df['time'] = measured_df.apply(lambda row: splitTimestampTime(row), axis=1)"
   ]
  },
  {
   "cell_type": "code",
   "execution_count": 9,
   "id": "level-syntax",
   "metadata": {},
   "outputs": [],
   "source": [
    "measured_df['date_dt'] = pd.to_datetime(measured_df['date'], format='%d/%m/%Y')\n",
    "measured_df['time_dt'] = pd.to_datetime(measured_df['time'], format='%H:%M')"
   ]
  },
  {
   "cell_type": "code",
   "execution_count": 11,
   "id": "unnecessary-timber",
   "metadata": {},
   "outputs": [],
   "source": [
    "measured_df['month'] = measured_df['date_dt'].dt.month\n",
    "measured_df['hour'] = measured_df['time_dt'].dt.hour"
   ]
  },
  {
   "cell_type": "code",
   "execution_count": 12,
   "id": "median-capacity",
   "metadata": {},
   "outputs": [],
   "source": [
    "hourlyTBOutput = list(measured_df.groupby(['date', 'hour'], axis=0).sum()[measuredDataOutputName])\n",
    "monthlyTBOutput = list(measured_df.groupby(['month'], axis=0).sum()[measuredDataOutputName])"
   ]
  },
  {
   "cell_type": "code",
   "execution_count": 13,
   "id": "olive-customer",
   "metadata": {},
   "outputs": [],
   "source": [
    "hourStart = f'{yearOfInterest}-01-01  01:00:00'\n",
    "hourStart = datetime.datetime.strptime(hourStart, '%Y-%m-%d %H:%M:%S')\n",
    "\n",
    "hourEnd = f'{nextYear}-01-01 00:00:00'\n",
    "hourEnd = datetime.datetime.strptime(hourEnd, '%Y-%m-%d %H:%M:%S')\n",
    "\n",
    "hours = list(pd.date_range(start=hourStart, end=hourEnd, freq='60Min'))\n",
    "months = ['January', 'Febuary', 'March', 'April', 'May', 'June', 'July', 'August', 'September', 'October', 'November',\n",
    "          'December']"
   ]
  },
  {
   "cell_type": "code",
   "execution_count": 14,
   "id": "dental-movie",
   "metadata": {},
   "outputs": [],
   "source": [
    "assert len(hourlyTBOutput) == len(hours)\n",
    "assert len(monthlyTBOutput) == len(months)"
   ]
  },
  {
   "cell_type": "code",
   "execution_count": 15,
   "id": "aggressive-tribune",
   "metadata": {},
   "outputs": [],
   "source": [
    "HourlyDF = pd.DataFrame({'timestamp_dt': hours, newHourlyMeasuredDataOutputName: hourlyTBOutput})\n",
    "MonthlyDF = pd.DataFrame({'Date/Time': months, newMonthlyMeasuredDataOutputName: monthlyTBOutput})"
   ]
  },
  {
   "cell_type": "markdown",
   "id": "virgin-bobby",
   "metadata": {},
   "source": [
    "### Step 3: Fix Timestamps"
   ]
  },
  {
   "cell_type": "markdown",
   "id": "alike-share",
   "metadata": {},
   "source": [
    "As mentioned previously, we now need to alter the timestamps of the hourly data to match with the data simulated by EnergyPlus."
   ]
  },
  {
   "cell_type": "code",
   "execution_count": 16,
   "id": "foreign-guess",
   "metadata": {},
   "outputs": [],
   "source": [
    "HourlyDF['Month'] = HourlyDF['timestamp_dt'].dt.month\n",
    "HourlyDF['Day'] = HourlyDF['timestamp_dt'].dt.day\n",
    "HourlyDF['Hour'] = HourlyDF['timestamp_dt'].dt.hour\n",
    "HourlyDF['Minute'] = HourlyDF['timestamp_dt'].dt.minute\n",
    "HourlyDF['Second'] = HourlyDF['timestamp_dt'].dt.second"
   ]
  },
  {
   "cell_type": "code",
   "execution_count": 17,
   "id": "bibliographic-hindu",
   "metadata": {},
   "outputs": [],
   "source": [
    "def getDateTime(row):\n",
    "    month = str(row['Month'])\n",
    "    day = str(row['Day'])\n",
    "    hour = str(row['Hour'])\n",
    "    minute = str(row['Minute'])\n",
    "    second = str(row['Second'])\n",
    "    \n",
    "    if int(month) < 10:\n",
    "        month = '0' + month\n",
    "        \n",
    "    if int(day) < 10:\n",
    "        day = '0' + day\n",
    "        \n",
    "    if int(hour) < 10:\n",
    "        hour = '0' + hour\n",
    "        \n",
    "    if int(minute) < 10:\n",
    "        minute = '0' + minute\n",
    "        \n",
    "    if int(second) < 10:\n",
    "        second = '0' + second\n",
    "    \n",
    "    mydatetime = ' ' + month + '/' + day + '  ' + hour + ':' + minute + ':' + second\n",
    "    \n",
    "    return mydatetime"
   ]
  },
  {
   "cell_type": "code",
   "execution_count": 18,
   "id": "palestinian-jordan",
   "metadata": {},
   "outputs": [],
   "source": [
    "HourlyDF['Date/Time'] = HourlyDF.apply(lambda row: getDateTime(row), axis=1)"
   ]
  },
  {
   "cell_type": "code",
   "execution_count": 19,
   "id": "cloudy-coaching",
   "metadata": {},
   "outputs": [],
   "source": [
    "def fixDateTime(row):\n",
    "    date = datetime.datetime.strptime(row['Date/Time'], ' %m/%d  %H:%M:%S')\n",
    "    \n",
    "    if date.hour == 0:\n",
    "        yesterday = datetime.timedelta(days=1)\n",
    "        newDate = date - yesterday\n",
    "        newDateDay = str(newDate.day)\n",
    "        newDateMonth = str(newDate.month)\n",
    "        \n",
    "        if int(newDateDay) < 10:\n",
    "            newDateDay = '0' + newDateDay\n",
    "        \n",
    "        if int(newDateMonth) < 10:\n",
    "            newDateMonth = '0' + newDateMonth\n",
    "        \n",
    "        return ' ' + newDateMonth + '/' + newDateDay + '  ' + '24:00:00'\n",
    "    \n",
    "    else:\n",
    "        return row['Date/Time']"
   ]
  },
  {
   "cell_type": "code",
   "execution_count": 20,
   "id": "received-silver",
   "metadata": {},
   "outputs": [],
   "source": [
    "HourlyDF['Date/Time'] = HourlyDF.apply(lambda row: fixDateTime(row), axis=1)"
   ]
  },
  {
   "cell_type": "markdown",
   "id": "short-sword",
   "metadata": {},
   "source": [
    "### Step 4: Convert Output to Correct Units"
   ]
  },
  {
   "cell_type": "markdown",
   "id": "valid-signal",
   "metadata": {},
   "source": [
    "Measured output is in kWh. EnergyPlus output is in J."
   ]
  },
  {
   "cell_type": "code",
   "execution_count": 21,
   "id": "promising-minority",
   "metadata": {},
   "outputs": [],
   "source": [
    "HourlyDF[newHourlyMeasuredDataOutputName] = HourlyDF[newHourlyMeasuredDataOutputName]*multiplier"
   ]
  },
  {
   "cell_type": "code",
   "execution_count": 22,
   "id": "joined-executive",
   "metadata": {},
   "outputs": [],
   "source": [
    "HourlyDF = HourlyDF[['Date/Time', newHourlyMeasuredDataOutputName]]"
   ]
  },
  {
   "cell_type": "code",
   "execution_count": 23,
   "id": "athletic-poison",
   "metadata": {},
   "outputs": [],
   "source": [
    "MonthlyDF[newMonthlyMeasuredDataOutputName] = MonthlyDF[newMonthlyMeasuredDataOutputName]*multiplier"
   ]
  },
  {
   "cell_type": "markdown",
   "id": "concrete-advertiser",
   "metadata": {},
   "source": [
    "### Step 5: Create CSV Files"
   ]
  },
  {
   "cell_type": "code",
   "execution_count": 24,
   "id": "rural-envelope",
   "metadata": {},
   "outputs": [],
   "source": [
    "createHourlyDF = False\n",
    "\n",
    "if createHourlyDF:\n",
    "    HourlyDF.to_csv(f'..\\Data\\PreprocessedMeasuredData\\Building{yearOfInterest}_{measuredDataOutputOfInterest}_AutotuneData_Hourly.csv', index=None)\n",
    "    \n",
    "createMonthlyDF = False\n",
    "\n",
    "if createMonthlyDF:\n",
    "    MonthlyDF.to_csv(f'..\\Data\\PreprocessedMeasuredData\\Building{yearOfInterest}_{measuredDataOutputOfInterest}_AutotuneData_Monthly.csv', index=None)"
   ]
  }
 ],
 "metadata": {
  "kernelspec": {
   "display_name": "Python 3",
   "language": "python",
   "name": "python3"
  },
  "language_info": {
   "codemirror_mode": {
    "name": "ipython",
    "version": 3
   },
   "file_extension": ".py",
   "mimetype": "text/x-python",
   "name": "python",
   "nbconvert_exporter": "python",
   "pygments_lexer": "ipython3",
   "version": "3.7.9"
  }
 },
 "nbformat": 4,
 "nbformat_minor": 5
}
