{
 "cells": [
  {
   "cell_type": "markdown",
   "id": "rotary-willow",
   "metadata": {},
   "source": [
    "# Results Analysis"
   ]
  },
  {
   "cell_type": "markdown",
   "id": "66c3f4ae",
   "metadata": {},
   "source": [
    "Script to analyse the results of the calibration process."
   ]
  },
  {
   "cell_type": "code",
   "execution_count": 1,
   "id": "coordinate-reputation",
   "metadata": {},
   "outputs": [],
   "source": [
    "import pandas as pd\n",
    "import math\n",
    "import json\n",
    "import matplotlib.pyplot as plt\n",
    "from scipy.interpolate import interp1d\n",
    "import numpy as np"
   ]
  },
  {
   "cell_type": "code",
   "execution_count": 2,
   "id": "d381d7c8",
   "metadata": {},
   "outputs": [],
   "source": [
    "yearOfInterest = '2017'\n",
    "\n",
    "hourlyOrMonthly = 'Hourly'\n",
    "\n",
    "outputOfInterest = 'Electricity'\n",
    "#outputOfInterest = 'DistrictHeating'\n",
    "#outputOfInterest = 'Water'"
   ]
  },
  {
   "cell_type": "code",
   "execution_count": 3,
   "id": "technical-static",
   "metadata": {},
   "outputs": [],
   "source": [
    "if outputOfInterest == 'Water':\n",
    "    unit = 'm3'\n",
    "    \n",
    "else:\n",
    "    unit = 'J'\n",
    "\n",
    "columnOfInterest = f'{outputOfInterest}:Facility [{unit}]({hourlyOrMonthly})'"
   ]
  },
  {
   "cell_type": "code",
   "execution_count": 4,
   "id": "loaded-ceremony",
   "metadata": {},
   "outputs": [],
   "source": [
    "initialSimulated = f'..\\Data\\InitialSimulatedData\\\\{hourlyOrMonthly}_BuildingInitialSimulation{yearOfInterest}.csv'\n",
    "measured = f'..\\Data\\PreprocessedMeasuredData\\Building{yearOfInterest}_{outputOfInterest}_AutotuneData_{hourlyOrMonthly}.csv'\n",
    "simulated = f'..\\Data\\SimulatedData\\Building{yearOfInterest}_{outputOfInterest}_{hourlyOrMonthly}.csv'"
   ]
  },
  {
   "cell_type": "code",
   "execution_count": 5,
   "id": "vital-sally",
   "metadata": {},
   "outputs": [],
   "source": [
    "initialSimulated_df = pd.read_csv(initialSimulated)\n",
    "measured_df = pd.read_csv(measured)\n",
    "simulated_df = pd.read_csv(simulated)"
   ]
  },
  {
   "cell_type": "code",
   "execution_count": 6,
   "id": "statistical-exploration",
   "metadata": {},
   "outputs": [],
   "source": [
    "initialSimulated_df = initialSimulated_df[['Date/Time', columnOfInterest]]\n",
    "initialSimulated_df.columns = ['Date/Time', f'initialSimulated_{columnOfInterest}']\n",
    "\n",
    "measured_df = measured_df[['Date/Time', columnOfInterest]]\n",
    "measured_df.columns = ['Date/Time', f'measured_{columnOfInterest}']\n",
    "\n",
    "simulated_df = simulated_df[['Date/Time', columnOfInterest]]\n",
    "simulated_df.columns = ['Date/Time', f'simulated_{columnOfInterest}']"
   ]
  },
  {
   "cell_type": "code",
   "execution_count": 7,
   "id": "saved-absorption",
   "metadata": {},
   "outputs": [],
   "source": [
    "merged_df1 = measured_df.merge(initialSimulated_df, on='Date/Time')\n",
    "merged_df2 = merged_df1.merge(simulated_df, on='Date/Time')"
   ]
  },
  {
   "cell_type": "code",
   "execution_count": 8,
   "id": "awful-stations",
   "metadata": {},
   "outputs": [],
   "source": [
    "def getCVRMSE(data):\n",
    "    df = data.copy()\n",
    "    \n",
    "    df['m-is'] = (df[f'measured_{columnOfInterest}'] - df[f'initialSimulated_{columnOfInterest}'])**2\n",
    "    df['m-s'] = (df[f'measured_{columnOfInterest}'] - df[f'simulated_{columnOfInterest}'])**2\n",
    "    \n",
    "    mis_val = df['m-is'].sum()\n",
    "    ms_val = df['m-s'].sum()\n",
    "    \n",
    "    numDataPoints = len(df)\n",
    "    measuredAverage = df[f'measured_{columnOfInterest}'].mean()\n",
    "    \n",
    "    initial_CVRMSE = (math.sqrt(mis_val/numDataPoints)/measuredAverage)*100\n",
    "    improved_CVRMSE = (math.sqrt(ms_val/numDataPoints)/measuredAverage)*100\n",
    "    \n",
    "    return initial_CVRMSE, improved_CVRMSE"
   ]
  },
  {
   "cell_type": "code",
   "execution_count": 9,
   "id": "prime-howard",
   "metadata": {},
   "outputs": [],
   "source": [
    "def getMBE(data):\n",
    "    df = data.copy()\n",
    "    \n",
    "    df['m-is'] = (df[f'measured_{columnOfInterest}'] - df[f'initialSimulated_{columnOfInterest}'])\n",
    "    df['m-s'] = (df[f'measured_{columnOfInterest}'] - df[f'simulated_{columnOfInterest}'])\n",
    "    \n",
    "    mis_val = df['m-is'].sum()\n",
    "    ms_val = df['m-s'].sum()\n",
    "    \n",
    "    measuredSum = df[f'measured_{columnOfInterest}'].sum()\n",
    "    \n",
    "    initial_MBE = (mis_val/measuredSum)*100\n",
    "    improved_MBE = (ms_val/measuredSum)*100\n",
    "    \n",
    "    return initial_MBE, improved_MBE"
   ]
  },
  {
   "cell_type": "code",
   "execution_count": 10,
   "id": "proud-symphony",
   "metadata": {},
   "outputs": [],
   "source": [
    "initial_CVRMSE, improved_CVRMSE = getCVRMSE(merged_df2)"
   ]
  },
  {
   "cell_type": "code",
   "execution_count": 11,
   "id": "whole-worcester",
   "metadata": {},
   "outputs": [
    {
     "name": "stdout",
     "output_type": "stream",
     "text": [
      "Initially the CVRMSE is 84.1438998878813%\n",
      "\n",
      "\n",
      "After calibration the CVRMSE is 79.0523140214075%\n",
      "\n",
      "\n",
      "An improvement of 5.091585866473807% was seen\n"
     ]
    }
   ],
   "source": [
    "print(f'Initially the CVRMSE is {initial_CVRMSE}%')\n",
    "print('\\n')\n",
    "print(f'After calibration the CVRMSE is {improved_CVRMSE}%')\n",
    "print('\\n')\n",
    "print(f'An improvement of {initial_CVRMSE - improved_CVRMSE}% was seen')"
   ]
  },
  {
   "cell_type": "code",
   "execution_count": 12,
   "id": "educated-behavior",
   "metadata": {},
   "outputs": [],
   "source": [
    "initial_MBE, improved_MBE = getMBE(merged_df2)"
   ]
  },
  {
   "cell_type": "code",
   "execution_count": 13,
   "id": "interstate-german",
   "metadata": {},
   "outputs": [
    {
     "name": "stdout",
     "output_type": "stream",
     "text": [
      "Initially the MBE is 7.745286010081356%\n",
      "\n",
      "\n",
      "After calibration the MBE is 13.46143209867359%\n",
      "\n",
      "\n",
      "An improvement of -5.716146088592234% was seen\n"
     ]
    }
   ],
   "source": [
    "print(f'Initially the MBE is {initial_MBE}%')\n",
    "print('\\n')\n",
    "print(f'After calibration the MBE is {improved_MBE}%')\n",
    "print('\\n')\n",
    "print(f'An improvement of {initial_MBE - improved_MBE}% was seen')"
   ]
  },
  {
   "cell_type": "code",
   "execution_count": 14,
   "id": "silent-exhibit",
   "metadata": {},
   "outputs": [],
   "source": [
    "df = pd.read_csv(f'..\\SensitivityAnalysis\\IC_DataFrames\\\\{outputOfInterest}_IC_DataFrame.csv')\n",
    "df['Final'] = 0\n",
    "df['Max'] = 0\n",
    "df['Min'] = 0"
   ]
  },
  {
   "cell_type": "code",
   "execution_count": 15,
   "id": "ranging-portuguese",
   "metadata": {},
   "outputs": [],
   "source": [
    "df1 = pd.read_csv(f'..\\IDF_Files\\Calibrated_{outputOfInterest}\\Building2017_{outputOfInterest}_{hourlyOrMonthly}_inds.csv', header=None)"
   ]
  },
  {
   "cell_type": "code",
   "execution_count": 16,
   "id": "defined-commerce",
   "metadata": {},
   "outputs": [],
   "source": [
    "df2 = pd.read_csv(f'..\\SensitivityAnalysis\\Building_{outputOfInterest}_AutotuneParameters.csv')"
   ]
  },
  {
   "cell_type": "code",
   "execution_count": 17,
   "id": "vietnamese-bobby",
   "metadata": {},
   "outputs": [],
   "source": [
    "df2['COF'] = df2['Class'] + '-->' + df2['Object'] + '-->' + df2['Field']"
   ]
  },
  {
   "cell_type": "code",
   "execution_count": 18,
   "id": "foster-election",
   "metadata": {},
   "outputs": [],
   "source": [
    "cofList = list(df2['COF'])"
   ]
  },
  {
   "cell_type": "code",
   "execution_count": 19,
   "id": "regulation-litigation",
   "metadata": {},
   "outputs": [],
   "source": [
    "cofList.insert(0, 'C')\n",
    "cofList.insert(0, 'B')\n",
    "cofList.insert(0, 'A')"
   ]
  },
  {
   "cell_type": "code",
   "execution_count": 20,
   "id": "express-beads",
   "metadata": {},
   "outputs": [],
   "source": [
    "df1.columns = cofList"
   ]
  },
  {
   "cell_type": "code",
   "execution_count": 21,
   "id": "unlikely-stability",
   "metadata": {},
   "outputs": [],
   "source": [
    "def removeOpenBracket(row, cofList=cofList):\n",
    "    return row[cofList[3]].split('[')[1]\n",
    "\n",
    "def removeCloseBracket(row):\n",
    "    return row[cofList[-1]].split(']')[0]"
   ]
  },
  {
   "cell_type": "code",
   "execution_count": 22,
   "id": "impossible-delicious",
   "metadata": {},
   "outputs": [],
   "source": [
    "df1[cofList[3]] = df1.apply(lambda row: removeOpenBracket(row), axis=1)\n",
    "df1[cofList[-1]] = df1.apply(lambda row: removeCloseBracket(row), axis=1)"
   ]
  },
  {
   "cell_type": "code",
   "execution_count": 23,
   "id": "neutral-locator",
   "metadata": {},
   "outputs": [],
   "source": [
    "df3 = df1.loc[df1['B'] == 0]"
   ]
  },
  {
   "cell_type": "code",
   "execution_count": 24,
   "id": "alike-chick",
   "metadata": {},
   "outputs": [],
   "source": [
    "theSomething = df3.iloc[-1]"
   ]
  },
  {
   "cell_type": "code",
   "execution_count": 25,
   "id": "brazilian-donna",
   "metadata": {},
   "outputs": [],
   "source": [
    "theSomething = theSomething.iloc[3:]"
   ]
  },
  {
   "cell_type": "code",
   "execution_count": 26,
   "id": "supreme-paradise",
   "metadata": {},
   "outputs": [],
   "source": [
    "def doTheThing(row, theSomething=theSomething):\n",
    "    return theSomething[row['COF']]"
   ]
  },
  {
   "cell_type": "code",
   "execution_count": 27,
   "id": "italic-opening",
   "metadata": {},
   "outputs": [],
   "source": [
    "df['Final'] = df.apply(lambda row: doTheThing(row), axis=1)"
   ]
  },
  {
   "cell_type": "code",
   "execution_count": 28,
   "id": "arranged-senior",
   "metadata": {},
   "outputs": [],
   "source": [
    "df['Final'] = df['Final'].astype(float)"
   ]
  },
  {
   "cell_type": "code",
   "execution_count": 29,
   "id": "cathedral-donor",
   "metadata": {},
   "outputs": [],
   "source": [
    "with open('..\\SensitivityAnalysis\\Building_JSON_Jobs.json') as f:\n",
    "    data = json.load(f)\n",
    "        \n",
    "    f.close()"
   ]
  },
  {
   "cell_type": "code",
   "execution_count": 30,
   "id": "binary-processor",
   "metadata": {},
   "outputs": [],
   "source": [
    "def minApply(row, data=data):\n",
    "    return data[row['COF']]['Min']\n",
    "\n",
    "def maxApply(row, data=data):\n",
    "    return data[row['COF']]['Max']"
   ]
  },
  {
   "cell_type": "code",
   "execution_count": 31,
   "id": "proper-hampshire",
   "metadata": {},
   "outputs": [],
   "source": [
    "df['Min'] = df.apply(lambda row: minApply(row), axis=1)\n",
    "df['Max'] = df.apply(lambda row: maxApply(row), axis=1)"
   ]
  },
  {
   "cell_type": "code",
   "execution_count": 32,
   "id": "bound-entry",
   "metadata": {},
   "outputs": [],
   "source": [
    "df['relVal'] = 1 - ((df['Max'] - df['Final'])/(df['Max'] - df['Min']))"
   ]
  },
  {
   "cell_type": "code",
   "execution_count": 33,
   "id": "environmental-saturn",
   "metadata": {},
   "outputs": [],
   "source": [
    "df = df.reset_index()"
   ]
  },
  {
   "cell_type": "code",
   "execution_count": 34,
   "id": "proud-pollution",
   "metadata": {},
   "outputs": [],
   "source": [
    "def fixValues(row):\n",
    "    \n",
    "    if row['relVal'] <= 1 and row['relVal'] >= 0:\n",
    "        return row['relVal']\n",
    "    \n",
    "    if float(row['relVal']) > 1:\n",
    "        val = row['relVal']\n",
    "        print(f'Greater than 1. Difference of {val - 1}')\n",
    "        return 1\n",
    "    \n",
    "    if row['relVal'] < 0:\n",
    "        val = row['relVal']\n",
    "        print(f'Less than 0. Difference of {0 - val}')\n",
    "        return 0"
   ]
  },
  {
   "cell_type": "code",
   "execution_count": 35,
   "id": "remarkable-animal",
   "metadata": {},
   "outputs": [],
   "source": [
    "high = 0.1\n",
    "medium = 0.25"
   ]
  },
  {
   "cell_type": "code",
   "execution_count": 36,
   "id": "fleet-hardware",
   "metadata": {},
   "outputs": [],
   "source": [
    "fullLength = len(df)"
   ]
  },
  {
   "cell_type": "code",
   "execution_count": 37,
   "id": "opposed-integrity",
   "metadata": {},
   "outputs": [],
   "source": [
    "high1df = df.loc[df['relVal'] >= (1-high)]\n",
    "high0df = df.loc[df['relVal'] <= high]\n",
    "\n",
    "high10 = len(high1df) + len(high0df)\n",
    "high1 = len(high1df)\n",
    "high0 = len(high0df)\n",
    "\n",
    "high10Percent = (high10/fullLength)*100\n",
    "high1Percent = (high1/fullLength)*100\n",
    "high0Percent = (high0/fullLength)*100"
   ]
  },
  {
   "cell_type": "code",
   "execution_count": 38,
   "id": "impossible-selection",
   "metadata": {},
   "outputs": [],
   "source": [
    "medium1df = df.loc[(df['relVal'] >= (1-medium)) & (df['relVal'] < (1-high))]\n",
    "medium0df = df.loc[(df['relVal'] <= medium) & (df['relVal'] > high)]\n",
    "\n",
    "medium10 = len(medium1df) + len(medium0df)\n",
    "medium1 = len(medium1df)\n",
    "medium0 = len(medium0df)\n",
    "\n",
    "medium10Percent = (medium10/fullLength)*100\n",
    "medium1Percent = (medium1/fullLength)*100\n",
    "medium0Percent = (medium0/fullLength)*100"
   ]
  },
  {
   "cell_type": "code",
   "execution_count": 39,
   "id": "false-apache",
   "metadata": {},
   "outputs": [],
   "source": [
    "lowdf = df.loc[(df['relVal'] < (1 - medium)) & (df['relVal'] > medium)]\n",
    "\n",
    "low = len(lowdf)\n",
    "\n",
    "lowPercent = (low/fullLength)*100"
   ]
  },
  {
   "cell_type": "code",
   "execution_count": 40,
   "id": "included-structure",
   "metadata": {
    "scrolled": true
   },
   "outputs": [
    {
     "data": {
      "image/png": "[encoded data removed]",
      "text/plain": [
       "<Figure size 720x360 with 1 Axes>"
      ]
     },
     "metadata": {
      "needs_background": "light"
     },
     "output_type": "display_data"
    }
   ],
   "source": [
    "xData = [0, 0.1, 0.2, 0.3, 0.4, 0.5, 0.6, 0.7, 0.8, 0.9, 1]\n",
    "x = [0.05, 0.175, 0.5, 0.825, 0.95]\n",
    "y = [(high0Percent/100)+0.3, (medium0Percent/100)+0.3, (lowPercent/100)+0.3, (medium1Percent/100)+0.3, (high1Percent/100)+0.3]\n",
    "\n",
    "f = interp1d(x, y, kind='quadratic')\n",
    "x_new = np.linspace(0.05, 0.95, 500)\n",
    "y_smooth=f(x_new)\n",
    "\n",
    "plt.figure(figsize=(10,5))\n",
    "\n",
    "ax1 = plt.axes()\n",
    "ax1.axes.get_yaxis().set_visible(False)\n",
    "plt.plot([0, 1], [0, 0], color='black')\n",
    "plt.plot([0, 0], [0, 0.4], color='red')\n",
    "plt.plot([1, 1], [0, 0.4], color='red')\n",
    "plt.plot([0.1, 0.1], [0, 0.3], color='darkorange')\n",
    "plt.plot([0.25, 0.25], [0, 0.2], color='gold')\n",
    "plt.plot([0.9, 0.9], [0, 0.3], color='darkorange')\n",
    "plt.plot([0.75, 0.75], [0, 0.2], color='gold')\n",
    "\n",
    "plt.scatter(0.95, high1Percent/100, marker='.', color='green', label='Percentage Inside Limits')\n",
    "plt.scatter(0.05, high0Percent/100, marker='.', color='green')\n",
    "plt.scatter(0.825, medium1Percent/100, marker='.', color='green')\n",
    "plt.scatter(0.175, medium0Percent/100, marker='.', color='green')\n",
    "plt.scatter(0.5, lowPercent/100, marker='.', color='green')\n",
    "\n",
    "plt.annotate('{:.2f}%'.format(high1Percent), (0.95, high1Percent/100), xytext=( 0.915,( (high1Percent/100) + 0.02)  ))\n",
    "plt.annotate('{:.2f}%'.format(high0Percent), (0.05, high0Percent/100), xytext=( 0.02,( (high0Percent/100) + 0.02)  ))\n",
    "\n",
    "plt.annotate('{:.2f}%'.format(medium1Percent), (0.825, medium1Percent/100), xytext=( 0.8,( (medium1Percent/100) + 0.02)  ))\n",
    "plt.annotate('{:.2f}%'.format(medium0Percent), (0.175, medium0Percent/100), xytext=( 0.15,( (medium0Percent/100) + 0.02)  ))\n",
    "\n",
    "plt.annotate('{:.2f}%'.format(lowPercent), (0.5, lowPercent/100), xytext=( 0.475,( (lowPercent/100) + 0.02)  ))\n",
    "\n",
    "plt.plot (x_new,y_smooth, '--', label='Approximate Distribution')\n",
    "\n",
    "ax1.set_ylim([-0.1, 0.85])\n",
    "ax1.xaxis.set_ticks(xData)\n",
    "plt.title(f'{hourlyOrMonthly} {outputOfInterest} Parameter Distribution')\n",
    "plt.xlabel('Relative Parameter Value')\n",
    "plt.legend()\n",
    "plt.show()"
   ]
  }
 ],
 "metadata": {
  "kernelspec": {
   "display_name": "Python 3",
   "language": "python",
   "name": "python3"
  },
  "language_info": {
   "codemirror_mode": {
    "name": "ipython",
    "version": 3
   },
   "file_extension": ".py",
   "mimetype": "text/x-python",
   "name": "python",
   "nbconvert_exporter": "python",
   "pygments_lexer": "ipython3",
   "version": "3.7.9"
  }
 },
 "nbformat": 4,
 "nbformat_minor": 5
}
