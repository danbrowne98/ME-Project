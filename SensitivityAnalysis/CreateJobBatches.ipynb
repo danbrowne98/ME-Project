{
 "cells": [
  {
   "cell_type": "markdown",
   "id": "16f0ddb7",
   "metadata": {},
   "source": [
    "# CreateJobBatches"
   ]
  },
  {
   "cell_type": "markdown",
   "id": "6fb575d1",
   "metadata": {},
   "source": [
    "Too many jobs for jEplus to handle in one go. Therefore, we need to divide all 3147 jobs into managable chunks"
   ]
  },
  {
   "cell_type": "code",
   "execution_count": 1,
   "id": "advanced-nightmare",
   "metadata": {},
   "outputs": [],
   "source": [
    "import pandas as pd"
   ]
  },
  {
   "cell_type": "code",
   "execution_count": 2,
   "id": "standing-artwork",
   "metadata": {},
   "outputs": [],
   "source": [
    "df = pd.read_csv('Building_Jobs4JEPlus.csv', header=None)"
   ]
  },
  {
   "cell_type": "markdown",
   "id": "428ce544",
   "metadata": {},
   "source": [
    "#### Chunk 1 (Jobs 1 - 600)"
   ]
  },
  {
   "cell_type": "code",
   "execution_count": 3,
   "id": "crazy-study",
   "metadata": {},
   "outputs": [],
   "source": [
    "batch1_df = df.iloc[0:600]"
   ]
  },
  {
   "cell_type": "code",
   "execution_count": 4,
   "id": "thrown-compensation",
   "metadata": {},
   "outputs": [],
   "source": [
    "createBatch1 = False\n",
    "\n",
    "if createBatch1:\n",
    "    batch1_df.to_csv('JobBatches\\Building_Jobs4JEPlus_1-600.csv', index=False, header=False)"
   ]
  },
  {
   "cell_type": "markdown",
   "id": "c7b447b4",
   "metadata": {},
   "source": [
    "#### Chunk 2 (Jobs 601 - 1200)"
   ]
  },
  {
   "cell_type": "code",
   "execution_count": 5,
   "id": "emotional-butter",
   "metadata": {},
   "outputs": [],
   "source": [
    "batch2_df = df.iloc[600:1200]"
   ]
  },
  {
   "cell_type": "code",
   "execution_count": 6,
   "id": "hearing-diving",
   "metadata": {},
   "outputs": [],
   "source": [
    "createBatch2 = False\n",
    "\n",
    "if createBatch2:\n",
    "    batch2_df.to_csv('JobBatches\\Building_Jobs4JEPlus_601-1200.csv', index=False, header=False)"
   ]
  },
  {
   "cell_type": "markdown",
   "id": "53244013",
   "metadata": {},
   "source": [
    "#### Chunk 3 (Jobs 1201 - 1800)"
   ]
  },
  {
   "cell_type": "code",
   "execution_count": 7,
   "id": "destroyed-tongue",
   "metadata": {},
   "outputs": [],
   "source": [
    "batch3_df = batch2_df = df.iloc[1200:1800]"
   ]
  },
  {
   "cell_type": "code",
   "execution_count": 8,
   "id": "charged-quick",
   "metadata": {},
   "outputs": [],
   "source": [
    "createBatch3 = False\n",
    "\n",
    "if createBatch3:\n",
    "    batch3_df.to_csv('JobBatches\\Building_Jobs4JEPlus_1201-1800.csv', index=False, header=False)"
   ]
  },
  {
   "cell_type": "markdown",
   "id": "76021aba",
   "metadata": {},
   "source": [
    "#### Chunk 4 (Jobs 1801 - 2400)"
   ]
  },
  {
   "cell_type": "code",
   "execution_count": 9,
   "id": "crude-parent",
   "metadata": {},
   "outputs": [],
   "source": [
    "batch4_df = df.iloc[1800:2400]"
   ]
  },
  {
   "cell_type": "code",
   "execution_count": 10,
   "id": "handed-sense",
   "metadata": {},
   "outputs": [],
   "source": [
    "createBatch4 = False\n",
    "\n",
    "if createBatch4:\n",
    "    batch4_df.to_csv('JobBatches\\Building_Jobs4JEPlus_1801-2400.csv', index=False, header=False)"
   ]
  },
  {
   "cell_type": "markdown",
   "id": "868292d8",
   "metadata": {},
   "source": [
    "#### Chunk 5 (Jobs 2401 - 3147)"
   ]
  },
  {
   "cell_type": "code",
   "execution_count": 11,
   "id": "maritime-cliff",
   "metadata": {},
   "outputs": [],
   "source": [
    "batch5_df = df.iloc[2400:3147]"
   ]
  },
  {
   "cell_type": "code",
   "execution_count": 12,
   "id": "constitutional-study",
   "metadata": {},
   "outputs": [],
   "source": [
    "createBatch5 = False\n",
    "\n",
    "if createBatch5:\n",
    "    batch5_df.to_csv('JobBatches\\Building_Jobs4JEPlus_2401-3147.csv', index=False, header=False)"
   ]
  }
 ],
 "metadata": {
  "kernelspec": {
   "display_name": "Python 3",
   "language": "python",
   "name": "python3"
  },
  "language_info": {
   "codemirror_mode": {
    "name": "ipython",
    "version": 3
   },
   "file_extension": ".py",
   "mimetype": "text/x-python",
   "name": "python",
   "nbconvert_exporter": "python",
   "pygments_lexer": "ipython3",
   "version": "3.7.9"
  }
 },
 "nbformat": 4,
 "nbformat_minor": 5
}
